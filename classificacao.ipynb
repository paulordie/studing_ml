{
 "metadata": {
  "language_info": {
   "codemirror_mode": {
    "name": "ipython",
    "version": 3
   },
   "file_extension": ".py",
   "mimetype": "text/x-python",
   "name": "python",
   "nbconvert_exporter": "python",
   "pygments_lexer": "ipython3",
   "version": "3.7.6"
  },
  "orig_nbformat": 2,
  "kernelspec": {
   "name": "python3",
   "display_name": "Python 3",
   "language": "python"
  }
 },
 "nbformat": 4,
 "nbformat_minor": 2,
 "cells": [
  {
   "cell_type": "code",
   "execution_count": 22,
   "metadata": {},
   "outputs": [
    {
     "output_type": "stream",
     "name": "stdout",
     "text": [
      "Resultado do Naive Bayes: [-1  1 -1]\nEstatística [ 0  0 -2]\nArray [0, 0]\nTotal de acertos 2\nTaxa de acerto 66.66666666666667%\n"
     ]
    }
   ],
   "source": [
    "#animal = [late, perna curta e se é gordinho por exemplo]\n",
    "porco1 = [1,1,0]\n",
    "porco2 = [1,1,0]\n",
    "porco3 = [1,1,0]\n",
    "\n",
    "cachorro1 = [1,1,1]\n",
    "cachorro2 = [0,1,1]\n",
    "cachorro3 = [0,1,1]\n",
    "\n",
    "dados = [porco1, porco2, porco3, cachorro1, cachorro2, cachorro3]\n",
    "\n",
    "marcadores = [1, 1, 1, -1, -1, -1]\n",
    "\n",
    "from sklearn.naive_bayes import MultinomialNB\n",
    "\n",
    "model = MultinomialNB()\n",
    "model.fit(dados, marcadores)\n",
    "\n",
    "test_1 = [1, 1, 1]\n",
    "test_2 = [1, 0, 0]\n",
    "test_3 = [0, 0, 1]\n",
    "\n",
    "# marker_test = [-1, 1, -1] #aqui vai para 100%\n",
    "marker_test = [-1, 1, 1]\n",
    "\n",
    "test = [test_1, test_2, test_3]\n",
    "result = model.predict(test)\n",
    "print('Resultado do Naive Bayes: {}'.format(result))\n",
    "different = result - marker_test # o acerto 1 erro\n",
    "print('Estatística {}'.format(different))\n",
    "\n",
    "correct = [d for d in different if d == 0]\n",
    "total_correct = len(correct)\n",
    "print('Array',correct)\n",
    "print('Total de acertos {}'.format(total_correct))\n",
    "total_test = len(test)\n",
    "taxa_de_acertos = 100.0 * total_correct/total_test\n",
    "\n",
    "print('Taxa de acerto {}%'.format(taxa_de_acertos))\n"
   ]
  },
  {
   "cell_type": "code",
   "execution_count": null,
   "metadata": {},
   "outputs": [],
   "source": []
  }
 ]
}