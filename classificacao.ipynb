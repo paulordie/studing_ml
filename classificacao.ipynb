{
 "metadata": {
  "language_info": {
   "codemirror_mode": {
    "name": "ipython",
    "version": 3
   },
   "file_extension": ".py",
   "mimetype": "text/x-python",
   "name": "python",
   "nbconvert_exporter": "python",
   "pygments_lexer": "ipython3",
   "version": "3.7.6"
  },
  "orig_nbformat": 2,
  "kernelspec": {
   "name": "python3",
   "display_name": "Python 3",
   "language": "python"
  }
 },
 "nbformat": 4,
 "nbformat_minor": 2,
 "cells": [
  {
   "cell_type": "code",
   "execution_count": 4,
   "metadata": {},
   "outputs": [
    {
     "output_type": "stream",
     "name": "stdout",
     "text": [
      "[0 1]\n"
     ]
    }
   ],
   "source": [
    "porco1 = [1,1,0]\n",
    "porco2 = [1,1,0]\n",
    "porco3 = [1,1,0]\n",
    "\n",
    "cachorro1 = [1,1,1]\n",
    "cachorro2 = [0,1,1]\n",
    "cachorro3 = [0,1,1]\n",
    "\n",
    "dados = [porco1, porco2, porco3, cachorro1, cachorro2, cachorro3]\n",
    "\n",
    "marcadores = [1, 1, 1, 0, 0, 0]\n",
    "\n",
    "from sklearn.naive_bayes import MultinomialNB\n",
    "\n",
    "model = MultinomialNB()\n",
    "model.fit(dados, marcadores)\n",
    "\n",
    "test_1 = [1, 1, 1]\n",
    "test_2 = [1, 0, 0]\n",
    "\n",
    "test = [test_1, test_2]\n",
    "print(model.predict(test))\n"
   ]
  },
  {
   "cell_type": "code",
   "execution_count": null,
   "metadata": {},
   "outputs": [],
   "source": []
  }
 ]
}